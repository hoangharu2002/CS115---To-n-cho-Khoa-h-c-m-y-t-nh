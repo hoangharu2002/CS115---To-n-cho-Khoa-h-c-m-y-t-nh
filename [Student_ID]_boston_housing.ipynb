{
  "nbformat": 4,
  "nbformat_minor": 0,
  "metadata": {
    "colab": {
      "provenance": []
    },
    "kernelspec": {
      "name": "python3",
      "display_name": "Python 3"
    },
    "language_info": {
      "name": "python"
    }
  },
  "cells": [
    {
      "cell_type": "code",
      "source": [
        "import numpy as np\n",
        "import matplotlib.pyplot as plt"
      ],
      "metadata": {
        "id": "AjBvSXC9PvOn"
      },
      "execution_count": null,
      "outputs": []
    },
    {
      "cell_type": "markdown",
      "source": [
        "# Simple Linear Regression (1 independent variable + 1 target variable)"
      ],
      "metadata": {
        "id": "FFcxx9oI9I8b"
      }
    },
    {
      "cell_type": "markdown",
      "metadata": {
        "id": "brR_JU3-JIRN"
      },
      "source": [
        "## Experiment with Original Data"
      ]
    },
    {
      "cell_type": "markdown",
      "source": [
        "### Load Data"
      ],
      "metadata": {
        "id": "WdofzHxh-B0y"
      }
    },
    {
      "cell_type": "code",
      "source": [
        "# load package for loading data\n"
      ],
      "metadata": {
        "id": "Gwud7GOm4xpJ"
      },
      "execution_count": null,
      "outputs": []
    },
    {
      "cell_type": "code",
      "metadata": {
        "id": "1Q0arOd3I8QQ"
      },
      "source": [
        "housing_dataset = '...'\n",
        "housing_dataset"
      ],
      "execution_count": null,
      "outputs": []
    },
    {
      "cell_type": "markdown",
      "source": [
        "### Train-Test Set Spliting"
      ],
      "metadata": {
        "id": "SxLzI13wmZIv"
      }
    },
    {
      "cell_type": "markdown",
      "source": [
        "Requirement:\n",
        "* Use the average number of rooms (RM) to estimate the house price (MEDV)\n",
        "* Split training, testing set with ratio 7:3 and random state = 42"
      ],
      "metadata": {
        "id": "dTAvrCRJJO0T"
      }
    },
    {
      "cell_type": "code",
      "source": [
        "X = '...'\n",
        "y = '...'"
      ],
      "metadata": {
        "id": "jKTi3jfpgiZa"
      },
      "execution_count": null,
      "outputs": []
    },
    {
      "cell_type": "code",
      "source": [
        "# load package for spliting data\n"
      ],
      "metadata": {
        "id": "wFhpMOt_mgbB"
      },
      "execution_count": null,
      "outputs": []
    },
    {
      "cell_type": "code",
      "source": [
        "X_train, X_test, y_train, y_test = '...'"
      ],
      "metadata": {
        "id": "my1NsaUrmhi-"
      },
      "execution_count": null,
      "outputs": []
    },
    {
      "cell_type": "markdown",
      "source": [
        "### Data Visualization"
      ],
      "metadata": {
        "id": "JUvlqHp3miW7"
      }
    },
    {
      "cell_type": "code",
      "source": [
        "# visualize data\n",
        "# xlabel: 'Average Number of Rooms'; ylabel: 'Median House Value (x1000$)'\n",
        "plt.scatter(X_train, y_train, facecolor='tab:blue', edgecolor='white', s=70)\n",
        "plt.xlabel('Average Number of Rooms')\n",
        "plt.ylabel('Median House Value (x1000$)')\n",
        "plt.xlabel('...')\n",
        "plt.ylabel('...')\n",
        "plt.show()"
      ],
      "metadata": {
        "id": "U8MqoIlqkKgi"
      },
      "execution_count": null,
      "outputs": []
    },
    {
      "cell_type": "markdown",
      "source": [
        "### Linear Regression (Base)"
      ],
      "metadata": {
        "id": "E5fIKoVu9LTZ"
      }
    },
    {
      "cell_type": "code",
      "source": [],
      "metadata": {
        "id": "vd-joYJS9QRr"
      },
      "execution_count": null,
      "outputs": []
    },
    {
      "cell_type": "markdown",
      "metadata": {
        "id": "T0J3diNKsYNf"
      },
      "source": [
        "### Gradient Descent"
      ]
    },
    {
      "cell_type": "code",
      "source": [],
      "metadata": {
        "id": "hbHHIRbnQTmt"
      },
      "execution_count": null,
      "outputs": []
    },
    {
      "cell_type": "markdown",
      "source": [
        "- Requirement: Experiment with\n",
        "-- Different learning rate values: eta = {1e-2, 1e-3, 1e-4}\n",
        "-- Maximum number of iterations = 200\n",
        "-- Random state = 42\n",
        "- What is the suitable 'learning rate' value?"
      ],
      "metadata": {
        "id": "_QbE586kQ8vt"
      }
    },
    {
      "cell_type": "code",
      "metadata": {
        "id": "Biy2OfztsYNg"
      },
      "source": [
        "# Initialize the model\n",
        "reg_GD = '...'\n",
        "\n",
        "# Train model\n",
        "reg_GD.fit('...', '...')\n",
        "\n",
        "# Visualize the cost trend\n",
        "plt.plot(range(1, len(reg_GD.costs) + 1), reg_GD.costs)\n",
        "plt.xlabel('Epochs')\n",
        "plt.ylabel('Cost')\n",
        "plt.title('Gradient Descent')\n",
        "plt.show()"
      ],
      "execution_count": null,
      "outputs": []
    },
    {
      "cell_type": "markdown",
      "source": [
        "Visualize the prediction of Gradient Descent model on Training Data"
      ],
      "metadata": {
        "id": "O6P5R3d7UTV5"
      }
    },
    {
      "cell_type": "code",
      "metadata": {
        "id": "XBlcNeupsYNh"
      },
      "source": [
        "plt.scatter(X_train, y_train, facecolor='tab:blue', edgecolor='white', s=70)\n",
        "plt.plot(X_train, reg_GD.predict(X_train), color='green', lw=6, label='Gradient Descent')\n",
        "plt.xlabel('Average Number of Rooms')\n",
        "plt.ylabel('Median House Value (x1000$)')\n",
        "plt.legend()\n",
        "plt.show()"
      ],
      "execution_count": null,
      "outputs": []
    },
    {
      "cell_type": "markdown",
      "metadata": {
        "id": "VgFLk-QXKgVi"
      },
      "source": [
        "### Stochastic Gradient Descent"
      ]
    },
    {
      "cell_type": "code",
      "metadata": {
        "id": "Rt45cDYuKmoI"
      },
      "source": [],
      "execution_count": null,
      "outputs": []
    },
    {
      "cell_type": "markdown",
      "source": [
        "- Requirement: Experiment with\n",
        "-- Different learning rate values: eta0 = 1e-4\n",
        "-- Maximum number of iterations = 200\n",
        "-- Random state = 42"
      ],
      "metadata": {
        "id": "H88ANj9pVSxB"
      }
    },
    {
      "cell_type": "code",
      "metadata": {
        "id": "qJZ3mnVvKdvu"
      },
      "source": [
        "# Initialize the model\n",
        "reg_SGD = '...'\n",
        "\n",
        "# Train model\n",
        "reg_SGD.fit('...', '...')"
      ],
      "execution_count": null,
      "outputs": []
    },
    {
      "cell_type": "markdown",
      "source": [
        "Visualize the prediction of Stochastic Gradient Descent model on Training Data"
      ],
      "metadata": {
        "id": "gklMvTPhVnJs"
      }
    },
    {
      "cell_type": "code",
      "metadata": {
        "id": "NeL_mxQALm6Z"
      },
      "source": [
        "plt.scatter(X_train, y_train, c='tab:blue', edgecolor='white', s=70)\n",
        "plt.plot(X_train, reg_SGD.predict(X_train), color='black', lw=4, label='Stochastic Gradient Descent')\n",
        "plt.xlabel('Average Number of Rooms')\n",
        "plt.ylabel('Median House Value (x1000$)')\n",
        "plt.legend()\n",
        "plt.show()"
      ],
      "execution_count": null,
      "outputs": []
    },
    {
      "cell_type": "markdown",
      "metadata": {
        "id": "crz_EPF4MS1Z"
      },
      "source": [
        "### Normal Equation (sklearn)"
      ]
    },
    {
      "cell_type": "code",
      "metadata": {
        "id": "aJGIzzFVMcH-"
      },
      "source": [],
      "execution_count": null,
      "outputs": []
    },
    {
      "cell_type": "code",
      "metadata": {
        "id": "G03mBZRCMR4b"
      },
      "source": [
        "# Intialize the Normal Equation model\n",
        "reg_NE = '...'\n",
        "\n",
        "# Train model\n",
        "reg_NE.fit('...', '...')"
      ],
      "execution_count": null,
      "outputs": []
    },
    {
      "cell_type": "markdown",
      "source": [
        "Visualize the prediction of Normal Equation model on Training Data"
      ],
      "metadata": {
        "id": "gRAC1_zzV1D6"
      }
    },
    {
      "cell_type": "code",
      "metadata": {
        "id": "EEnmW4qOOJ4v"
      },
      "source": [
        "plt.scatter(X_train, y_train, c='tab:blue', edgecolor='white', s=70)\n",
        "plt.plot(X_train, reg_NE.predict(X_train), color='orange', lw=2, label='Normal Equation')\n",
        "plt.xlabel('Average Number of Rooms')\n",
        "plt.ylabel('Median House Value (x1000$)')\n",
        "plt.legend()\n",
        "plt.show()"
      ],
      "execution_count": null,
      "outputs": []
    },
    {
      "cell_type": "markdown",
      "source": [
        "### Visualize all models on Training Data"
      ],
      "metadata": {
        "id": "hwNM8wI8WznF"
      }
    },
    {
      "cell_type": "code",
      "source": [
        "plt.scatter(X_train, y_train, c='tab:blue', edgecolor='white', s=70)\n",
        "plt.plot(X_train, reg_GD.predict(X_train), color='green', lw=6, label='Gradient Descent')\n",
        "plt.plot(X_train, reg_SGD.predict(X_train), color='black', lw=4, label='Stochastic Gradient Descent')\n",
        "plt.plot(X_train, reg_NE.predict(X_train), color='orange', lw=2, label='Normal Equation')\n",
        "plt.xlabel('Average Number of Rooms')\n",
        "plt.ylabel('Median House Value (x1000$)')\n",
        "plt.legend()\n",
        "plt.show()"
      ],
      "metadata": {
        "id": "rdlMNPmpWDyx"
      },
      "execution_count": null,
      "outputs": []
    },
    {
      "cell_type": "markdown",
      "source": [
        "### Algorithms Comparisons"
      ],
      "metadata": {
        "id": "y_mLF-5NtTYc"
      }
    },
    {
      "cell_type": "markdown",
      "source": [
        "Weight Comparisions"
      ],
      "metadata": {
        "id": "szwq4vMAWGXa"
      }
    },
    {
      "cell_type": "code",
      "source": [
        "w_GD = reg_GD.w\n",
        "w_SGD = reg_SGD.w\n",
        "w_NE = reg_NE.w\n",
        "print(w_GD)\n",
        "print(w_SGD)\n",
        "print(w_NE)"
      ],
      "metadata": {
        "id": "esKZ2UN45Ljm"
      },
      "execution_count": null,
      "outputs": []
    },
    {
      "cell_type": "markdown",
      "source": [
        "Performance Comparisons (on Testing Set)"
      ],
      "metadata": {
        "id": "kl4lVMTKWSfg"
      }
    },
    {
      "cell_type": "code",
      "source": [
        "y_pred_GD = '...'"
      ],
      "metadata": {
        "id": "U0JwDCut-mLe"
      },
      "execution_count": null,
      "outputs": []
    },
    {
      "cell_type": "code",
      "metadata": {
        "id": "_cPcwNR6P6aB"
      },
      "source": [
        "y_pred_SGD = '...'"
      ],
      "execution_count": null,
      "outputs": []
    },
    {
      "cell_type": "code",
      "metadata": {
        "id": "_Y3w-4HnQBHB"
      },
      "source": [
        "y_pred_NE = '...'"
      ],
      "execution_count": null,
      "outputs": []
    },
    {
      "cell_type": "code",
      "metadata": {
        "id": "3gmajHHUQIA9"
      },
      "source": [
        "from sklearn.metrics import mean_absolute_error as MAE\n",
        "from sklearn.metrics import mean_squared_error as MSE\n",
        "from sklearn.metrics import r2_score as R2"
      ],
      "execution_count": null,
      "outputs": []
    },
    {
      "cell_type": "code",
      "metadata": {
        "id": "EZUo-N3pQMev"
      },
      "source": [
        "print('MAE of GD:', round(MAE(y_test, y_pred_GD), 6))\n",
        "print('MAE of SGD:', round(MAE(y_test, y_pred_SGD), 6))\n",
        "print('MAE of NE:', round(MAE(y_test, y_pred_NE), 6))"
      ],
      "execution_count": null,
      "outputs": []
    },
    {
      "cell_type": "code",
      "metadata": {
        "id": "aAq8Fzc-QYN6"
      },
      "source": [
        "print('MSE of GD:', round(MSE(y_test, y_pred_GD), 6))\n",
        "print('MSE of SGD:', round(MSE(y_test, y_pred_SGD), 6))\n",
        "print('MSE of NE:', round(MSE(y_test, y_pred_NE), 6))"
      ],
      "execution_count": null,
      "outputs": []
    },
    {
      "cell_type": "code",
      "metadata": {
        "id": "WVKf8mCXQd1X"
      },
      "source": [
        "print('R2 of GD:', round(R2(y_test, y_pred_GD), 6))\n",
        "print('R2 of SGD:', round(R2(y_test, y_pred_SGD), 6))\n",
        "print('R2 of NE:', round(R2(y_test, y_pred_NE), 6))"
      ],
      "execution_count": null,
      "outputs": []
    },
    {
      "cell_type": "markdown",
      "metadata": {
        "id": "YydUuoYyOcqm"
      },
      "source": [
        "## Experiment with Standardized Data"
      ]
    },
    {
      "cell_type": "code",
      "source": [
        "# Re-load the dataset\n",
        "housing_dataset = '...'"
      ],
      "metadata": {
        "id": "aKTSABGP653A"
      },
      "execution_count": null,
      "outputs": []
    },
    {
      "cell_type": "code",
      "metadata": {
        "id": "aeK-0Y7RNnn4"
      },
      "source": [
        "# load the package for standardizing data (Standard Scaler)\n"
      ],
      "execution_count": null,
      "outputs": []
    },
    {
      "cell_type": "code",
      "metadata": {
        "id": "0FanU0TQNpFG"
      },
      "source": [
        "# Standardize the 'RM' column\n",
        "scaler = StandardScaler()\n",
        "housing_dataset[['RM']] = scaler.fit_transform(housing_dataset[['RM']])"
      ],
      "execution_count": null,
      "outputs": []
    },
    {
      "cell_type": "code",
      "source": [
        "# X_new <- 'RM' column, y <- 'MEDV' column\n",
        "X_new = '...'\n",
        "y = '...'"
      ],
      "metadata": {
        "id": "ogLkqsNc0GN4"
      },
      "execution_count": null,
      "outputs": []
    },
    {
      "cell_type": "code",
      "source": [
        "# Train-test spliting (7:3, random state = 42)\n",
        "X_train_norm, X_test_norm, y_train, y_test = '...'"
      ],
      "metadata": {
        "id": "1da8H6wG0Oo8"
      },
      "execution_count": null,
      "outputs": []
    },
    {
      "cell_type": "markdown",
      "source": [
        "### Gradient Descent"
      ],
      "metadata": {
        "id": "1Vdr-VaP9vF9"
      }
    },
    {
      "cell_type": "code",
      "metadata": {
        "id": "r_dK-Ih70gyM"
      },
      "source": [
        "# Initalize the Gradient Descent model with: learning rate = 1e-3, max_iter = 200, random_state = 42\n",
        "reg_GD = '...'\n",
        "\n",
        "# Train model on standardized data\n",
        "reg_GD.fit('...', '...')\n",
        "\n",
        "\n",
        "# Visualize the cost trend\n",
        "plt.plot(range(1, len(reg_GD.costs) + 1), reg_GD.costs)\n",
        "plt.xlabel('Epochs')\n",
        "plt.ylabel('Cost')\n",
        "plt.title('Gradient Descent')\n",
        "plt.show()"
      ],
      "execution_count": null,
      "outputs": []
    },
    {
      "cell_type": "markdown",
      "metadata": {
        "id": "YFxpwfsx0gyN"
      },
      "source": [
        "Visualize the prediction of Gradient Descent model on Training Data\n",
        "\n"
      ]
    },
    {
      "cell_type": "code",
      "metadata": {
        "id": "0dDpFczr0gyO"
      },
      "source": [
        "plt.scatter(X_train_norm, y_train, c='tab:blue', edgecolor='white', s=70)\n",
        "plt.plot(X_train_norm, reg_GD.predict(X_train_norm), color='green', lw=6, label='Gradient Descent')\n",
        "plt.xlabel('Average Number of Rooms (normalized)')\n",
        "plt.ylabel('Median House Value (x1000$)')\n",
        "plt.legend()\n",
        "plt.show()"
      ],
      "execution_count": null,
      "outputs": []
    },
    {
      "cell_type": "markdown",
      "metadata": {
        "id": "JTlMu5Ez0gyO"
      },
      "source": [
        "### Stochastic Gradient Descent"
      ]
    },
    {
      "cell_type": "code",
      "metadata": {
        "id": "5AyUapBc0gyO"
      },
      "source": [
        "# Initalize the Stochastic Gradient Descent model with: eta0 = 1e-3, max_iter = 200, random_state=42, learning_rate = 'constant'\n",
        "reg_SGD = '...'\n",
        "\n",
        "# Train SGD model on standardized data\n",
        "reg_SGD.fit('...', '...')"
      ],
      "execution_count": null,
      "outputs": []
    },
    {
      "cell_type": "markdown",
      "source": [
        "Visualize the prediction of Stochastic Gradient Descent model on Training Data\n"
      ],
      "metadata": {
        "id": "adg2JN50ZAfC"
      }
    },
    {
      "cell_type": "code",
      "metadata": {
        "id": "MP4sTSpY0gyP"
      },
      "source": [
        "plt.scatter(X_train_norm, y_train, c='tab:blue', edgecolor='white', s=70)\n",
        "plt.plot(X_train_norm, reg_SGD.predict(X_train_norm), color='black', lw=4, label='Stochastic Gradient Descent')\n",
        "plt.xlabel('Average Number of Rooms (normalized)')\n",
        "plt.ylabel('Median House Value (x1000$)')\n",
        "plt.legend()\n",
        "plt.show()"
      ],
      "execution_count": null,
      "outputs": []
    },
    {
      "cell_type": "markdown",
      "metadata": {
        "id": "-_sTzQmj0gyP"
      },
      "source": [
        "### Normal Equation (sklearn)"
      ]
    },
    {
      "cell_type": "code",
      "metadata": {
        "id": "SjhAklwF0gyP"
      },
      "source": [
        "# Initalize the Normal Equation model\n",
        "reg_NE = '...'\n",
        "\n",
        "# Train model\n",
        "reg_NE.fit('...', '...')"
      ],
      "execution_count": null,
      "outputs": []
    },
    {
      "cell_type": "code",
      "metadata": {
        "id": "ZeOy47Rr0gyP"
      },
      "source": [
        "plt.scatter(X_train_norm, y_train, c='tab:blue', edgecolor='white', s=70)\n",
        "plt.plot(X_train_norm, reg_NE.predict(X_train_norm), color='orange', lw=2, label='Normal Equation')\n",
        "plt.xlabel('Average Number of Rooms (normalized)')\n",
        "plt.ylabel('Median House Value (x1000$)')\n",
        "plt.legend()\n",
        "plt.show()"
      ],
      "execution_count": null,
      "outputs": []
    },
    {
      "cell_type": "markdown",
      "source": [
        "### Visualize all models on Training Data"
      ],
      "metadata": {
        "id": "g5S2sujaZq39"
      }
    },
    {
      "cell_type": "code",
      "source": [
        "plt.scatter(X_train_norm, y_train, c='tab:blue', edgecolor='white', s=70)\n",
        "plt.plot(X_train_norm, reg_NE.predict(X_train_norm), color='green', lw=6, label='Gradient Descent')\n",
        "plt.plot(X_train_norm, reg_SGD.predict(X_train_norm), color='black', lw=4, label='Stochastic Gradient Descent')\n",
        "plt.plot(X_train_norm, reg_GD.predict(X_train_norm), color='orange', lw=2, label='Normal Equation')\n",
        "plt.xlabel('Average Number of Rooms (normalized)')\n",
        "plt.ylabel('Median House Value (x1000$)')\n",
        "plt.legend()\n",
        "plt.show()"
      ],
      "metadata": {
        "id": "b7a6rgxlZq39"
      },
      "execution_count": null,
      "outputs": []
    },
    {
      "cell_type": "markdown",
      "source": [
        "### Algorithms Comparisons"
      ],
      "metadata": {
        "id": "bqOJwJnX0gyQ"
      }
    },
    {
      "cell_type": "code",
      "source": [
        "w_GD = reg_GD.w\n",
        "w_GD"
      ],
      "metadata": {
        "id": "1pTd-Sy70gyQ"
      },
      "execution_count": null,
      "outputs": []
    },
    {
      "cell_type": "code",
      "source": [
        "w_SGD = reg_SGD.w\n",
        "w_SGD"
      ],
      "metadata": {
        "id": "kGQDcysf0gyR"
      },
      "execution_count": null,
      "outputs": []
    },
    {
      "cell_type": "code",
      "source": [
        "w_NE = reg_NE.w\n",
        "w_NE"
      ],
      "metadata": {
        "id": "mx-rpPOu0gyR"
      },
      "execution_count": null,
      "outputs": []
    },
    {
      "cell_type": "code",
      "source": [
        "y_pred_GD = reg_GD.predict(X_test_norm)"
      ],
      "metadata": {
        "id": "KTda0V850gyR"
      },
      "execution_count": null,
      "outputs": []
    },
    {
      "cell_type": "code",
      "metadata": {
        "id": "bkH5c2ao0gyR"
      },
      "source": [
        "y_pred_SGD = reg_SGD.predict(X_test_norm)"
      ],
      "execution_count": null,
      "outputs": []
    },
    {
      "cell_type": "code",
      "metadata": {
        "id": "WuquW7mv0gyS"
      },
      "source": [
        "y_pred_NE = reg_NE.predict(X_test_norm)"
      ],
      "execution_count": null,
      "outputs": []
    },
    {
      "cell_type": "code",
      "metadata": {
        "id": "kArHK3-p0gyS"
      },
      "source": [
        "print('MAE of GD:', round(MAE(y_test, y_pred_GD), 6))\n",
        "print('MAE of SGD:', round(MAE(y_test, y_pred_SGD), 6))\n",
        "print('MAE of NE:', round(MAE(y_test, y_pred_NE), 6))"
      ],
      "execution_count": null,
      "outputs": []
    },
    {
      "cell_type": "code",
      "metadata": {
        "id": "FeqkeSbf0gyS"
      },
      "source": [
        "print('MSE of GD:', round(MSE(y_test, y_pred_GD), 6))\n",
        "print('MSE of SGD:', round(MSE(y_test, y_pred_SGD), 6))\n",
        "print('MSE of NE:', round(MSE(y_test, y_pred_NE), 6))"
      ],
      "execution_count": null,
      "outputs": []
    },
    {
      "cell_type": "code",
      "metadata": {
        "id": "t3QJG_4s0gyS"
      },
      "source": [
        "print('R2 of GD:', round(R2(y_test, y_pred_GD), 6))\n",
        "print('R2 of SGD:', round(R2(y_test, y_pred_SGD), 6))\n",
        "print('R2 of NE:', round(R2(y_test, y_pred_NE), 6))"
      ],
      "execution_count": null,
      "outputs": []
    },
    {
      "cell_type": "markdown",
      "source": [
        "# Multiple Linear Regression (n independent variable (n >=2) + 1 target variable)"
      ],
      "metadata": {
        "id": "g2aXnerT7Dk7"
      }
    },
    {
      "cell_type": "markdown",
      "source": [
        "## Experiment with normal data"
      ],
      "metadata": {
        "id": "adV59eeA-XDE"
      }
    },
    {
      "cell_type": "code",
      "source": [
        "# Re-load dataset\n",
        "housing_dataset = '...'"
      ],
      "metadata": {
        "id": "ybhdf7bU7TY_"
      },
      "execution_count": null,
      "outputs": []
    },
    {
      "cell_type": "markdown",
      "source": [
        "* X: 13 remaining variables (except 'MEDV' variable)\n",
        "* y: 'MEDV' variable"
      ],
      "metadata": {
        "id": "S09ztaagaZHV"
      }
    },
    {
      "cell_type": "code",
      "source": [
        "X = '...'\n",
        "y = '...'"
      ],
      "metadata": {
        "id": "x33Qg1by7TY_"
      },
      "execution_count": null,
      "outputs": []
    },
    {
      "cell_type": "code",
      "source": [
        "# Train-test set spliting with ratio 7:3, random_state = 42\n",
        "X_train, X_test, y_train, y_test = '...'"
      ],
      "metadata": {
        "id": "xONmImcO7TZA"
      },
      "execution_count": null,
      "outputs": []
    },
    {
      "cell_type": "markdown",
      "source": [
        "### Gradient Descent"
      ],
      "metadata": {
        "id": "YY03pTD5-WOJ"
      }
    },
    {
      "cell_type": "markdown",
      "source": [
        "- Experiment with:\n",
        "-- max_iter = 200\n",
        "-- random_state = 42\n",
        "-- learning_rate (eta) = {1e-3, 1e-4, 1e-5, 1e-6, 1e-7, 1e-8}\n",
        "- What is the suitable learning rate value?"
      ],
      "metadata": {
        "id": "pVeMJgtpbXiD"
      }
    },
    {
      "cell_type": "code",
      "metadata": {
        "id": "SvADdqMF7TZA"
      },
      "source": [
        "# Initalize the GD model\n",
        "reg_GD = '...'\n",
        "\n",
        "# Train model\n",
        "reg_GD.fit('...', '...')\n",
        "\n",
        "# Visualize the cost trend\n",
        "plt.plot(range(1, len(reg_GD.costs) + 1), reg_GD.costs)\n",
        "plt.xlabel('Epochs')\n",
        "plt.ylabel('Cost')\n",
        "plt.title('Gradient Descent')\n",
        "plt.show()"
      ],
      "execution_count": null,
      "outputs": []
    },
    {
      "cell_type": "markdown",
      "metadata": {
        "id": "SwEswKTl7TZB"
      },
      "source": [
        "### Stochastic Gradient Descent"
      ]
    },
    {
      "cell_type": "code",
      "metadata": {
        "id": "duoaBXaZ7TZB"
      },
      "source": [
        "# Initialize the SGD model\n",
        "reg_SGD = '...'\n",
        "\n",
        "# Train model\n",
        "reg_SGD.fit('...', '...')"
      ],
      "execution_count": null,
      "outputs": []
    },
    {
      "cell_type": "markdown",
      "metadata": {
        "id": "ayo4QBUX7TZC"
      },
      "source": [
        "### Normal Equation"
      ]
    },
    {
      "cell_type": "code",
      "source": [
        "# Add the '1' column to data\n"
      ],
      "metadata": {
        "id": "U9bfuOgI9zLs"
      },
      "execution_count": null,
      "outputs": []
    },
    {
      "cell_type": "code",
      "metadata": {
        "id": "raV2LByu7TZC"
      },
      "source": [
        "# Intialize the NE model\n",
        "reg_NE = '...'\n",
        "\n",
        "# Train model\n",
        "reg_NE.fit('...', '...')"
      ],
      "execution_count": null,
      "outputs": []
    },
    {
      "cell_type": "markdown",
      "source": [
        "### Algorithms Comparisons"
      ],
      "metadata": {
        "id": "a__Dcv2Z7TZD"
      }
    },
    {
      "cell_type": "code",
      "source": [
        "w_GD = reg_GD.w\n",
        "w_GD"
      ],
      "metadata": {
        "id": "3mr9S-Xq7TZD"
      },
      "execution_count": null,
      "outputs": []
    },
    {
      "cell_type": "code",
      "source": [
        "w_SGD = reg_SGD.w\n",
        "w_SGD"
      ],
      "metadata": {
        "id": "e2vK3x4Y7TZE"
      },
      "execution_count": null,
      "outputs": []
    },
    {
      "cell_type": "code",
      "source": [
        "w_NE = reg_NE.w\n",
        "w_NE"
      ],
      "metadata": {
        "id": "CK-wqHW07TZF"
      },
      "execution_count": null,
      "outputs": []
    },
    {
      "cell_type": "code",
      "source": [
        "y_pred_GD = reg_GD.predict(X_test)"
      ],
      "metadata": {
        "id": "F4gZnhNv7TZH"
      },
      "execution_count": null,
      "outputs": []
    },
    {
      "cell_type": "code",
      "metadata": {
        "id": "7eHZMVfr7TZH"
      },
      "source": [
        "y_pred_SGD = reg_SGD.predict(X_test)"
      ],
      "execution_count": null,
      "outputs": []
    },
    {
      "cell_type": "code",
      "metadata": {
        "id": "trSZZ8Xq7TZH"
      },
      "source": [
        "y_pred_NE = reg_NE.predict(X_test)"
      ],
      "execution_count": null,
      "outputs": []
    },
    {
      "cell_type": "code",
      "metadata": {
        "id": "LWtUr-H77TZH"
      },
      "source": [
        "print('MAE of GD:', round(MAE(y_test, y_pred_GD), 6))\n",
        "print('MAE of SGD:', round(MAE(y_test, y_pred_SGD), 6))\n",
        "print('MAE of NE:', round(MAE(y_test, y_pred_NE), 6))"
      ],
      "execution_count": null,
      "outputs": []
    },
    {
      "cell_type": "code",
      "metadata": {
        "id": "JqcyFCAd7TZI"
      },
      "source": [
        "print('MSE of GD:', round(MSE(y_test, y_pred_GD), 6))\n",
        "print('MSE of SGD:', round(MSE(y_test, y_pred_SGD), 6))\n",
        "print('MSE of NE:', round(MSE(y_test, y_pred_NE), 6))"
      ],
      "execution_count": null,
      "outputs": []
    },
    {
      "cell_type": "code",
      "metadata": {
        "id": "vmnO_U947TZI"
      },
      "source": [
        "print('R2 of GD:', round(R2(y_test, y_pred_GD), 6))\n",
        "print('R2 of SGD:', round(R2(y_test, y_pred_SGD), 6))\n",
        "print('R2 of NE:', round(R2(y_test, y_pred_NE), 6))"
      ],
      "execution_count": null,
      "outputs": []
    },
    {
      "cell_type": "markdown",
      "source": [
        "## Experiment with Standardized Data"
      ],
      "metadata": {
        "id": "BpACcIOO7TZI"
      }
    },
    {
      "cell_type": "code",
      "source": [
        "# Re-load dataset\n",
        "housing_dataset = '...'"
      ],
      "metadata": {
        "id": "PjTXjd29_Dk5"
      },
      "execution_count": null,
      "outputs": []
    },
    {
      "cell_type": "code",
      "source": [
        "# Get the columns' names\n",
        "name_columns = housing_dataset.columns.values\n",
        "name_columns"
      ],
      "metadata": {
        "id": "CgVPdXg0_Ml-"
      },
      "execution_count": null,
      "outputs": []
    },
    {
      "cell_type": "code",
      "metadata": {
        "id": "Q2kkDzp8-9en"
      },
      "source": [
        "# Initialize the standardize scaler\n",
        "scaler = '...'\n",
        "\n",
        "# Standardize all independent variables\n",
        "housing_dataset[name_columns[:-1]] = scaler.fit_transform(housing_dataset[name_columns[:-1]])"
      ],
      "execution_count": null,
      "outputs": []
    },
    {
      "cell_type": "markdown",
      "source": [
        "X_new <- 13 independent variables\n",
        "\n",
        "y <- 'MEDV' column"
      ],
      "metadata": {
        "id": "fB09VGkcdfOX"
      }
    },
    {
      "cell_type": "code",
      "source": [
        "X_new = '...'\n",
        "y = '...'"
      ],
      "metadata": {
        "id": "HWMm4RHz-9eo"
      },
      "execution_count": null,
      "outputs": []
    },
    {
      "cell_type": "code",
      "source": [
        "# Split train-test set (7:3, random_state = 42)\n",
        "X_train_norm, X_test_norm, y_train, y_test = '...'"
      ],
      "metadata": {
        "id": "8fiVXV3P-9eo"
      },
      "execution_count": null,
      "outputs": []
    },
    {
      "cell_type": "markdown",
      "source": [
        "### Gradient Descent"
      ],
      "metadata": {
        "id": "zLX9iM9v-9eo"
      }
    },
    {
      "cell_type": "markdown",
      "source": [
        "- Experiment with following learning rates = {1e-3, 1e-5, 1e-4}\n",
        "- max_iter = 200\n",
        "- random_state = 42"
      ],
      "metadata": {
        "id": "4Y06rXajeeq0"
      }
    },
    {
      "cell_type": "code",
      "metadata": {
        "id": "1iIaUV_c-9eo"
      },
      "source": [
        "# Initalize the GD model\n",
        "reg_GD = '...'\n",
        "\n",
        "# Train model on normalized data\n",
        "reg_GD.fit('...', '...')\n",
        "\n",
        "# Visualize the cost trend\n",
        "plt.plot(range(1, len(reg_GD.costs) + 1), reg_GD.costs)\n",
        "plt.xlabel('Epochs')\n",
        "plt.ylabel('Cost')\n",
        "plt.title('Gradient Descent')\n",
        "plt.show()"
      ],
      "execution_count": null,
      "outputs": []
    },
    {
      "cell_type": "markdown",
      "metadata": {
        "id": "ytyMss5s-9ep"
      },
      "source": [
        "### Stochastic Gradient Descent"
      ]
    },
    {
      "cell_type": "code",
      "metadata": {
        "id": "aIlO_0Jc-9ep"
      },
      "source": [
        "# Initialize SGD model (eta0=1e-4, max_iter=200, random_state=42, learning_rate='constant')\n",
        "reg_SGD = '...'\n",
        "\n",
        "# Train model\n",
        "reg_SGD.fit('...', '...')"
      ],
      "execution_count": null,
      "outputs": []
    },
    {
      "cell_type": "markdown",
      "metadata": {
        "id": "R0XVYjgP-9ep"
      },
      "source": [
        "### Normal Equation (sklearn)"
      ]
    },
    {
      "cell_type": "code",
      "metadata": {
        "id": "mb8ErDl9-9eq"
      },
      "source": [
        "# Initialize NE model\n",
        "reg_NE = '...'\n",
        "\n",
        "# Train model\n",
        "reg_NE.fit('...', '...')"
      ],
      "execution_count": null,
      "outputs": []
    },
    {
      "cell_type": "markdown",
      "source": [
        "### Algorithms Comparisons"
      ],
      "metadata": {
        "id": "tzpweVOf-9eq"
      }
    },
    {
      "cell_type": "code",
      "source": [
        "w_GD = reg_GD.w\n",
        "w_GD"
      ],
      "metadata": {
        "id": "eURC1SqD-9eq"
      },
      "execution_count": null,
      "outputs": []
    },
    {
      "cell_type": "code",
      "source": [
        "w_SGD = np.append(reg_SGD.intercept_, reg_SGD.coef_)\n",
        "w_SGD"
      ],
      "metadata": {
        "id": "LbVpzkQD-9eq"
      },
      "execution_count": null,
      "outputs": []
    },
    {
      "cell_type": "code",
      "source": [
        "w_NE = np.append(reg_NE.intercept_, reg_NE.coef_)\n",
        "w_NE"
      ],
      "metadata": {
        "id": "aZSNoh6M-9eq"
      },
      "execution_count": null,
      "outputs": []
    },
    {
      "cell_type": "code",
      "source": [
        "y_pred_GD = reg_GD.predict(X_test_norm)"
      ],
      "metadata": {
        "id": "nYswp86H-9er"
      },
      "execution_count": null,
      "outputs": []
    },
    {
      "cell_type": "code",
      "metadata": {
        "id": "ztLNdZNo-9er"
      },
      "source": [
        "y_pred_SGD = reg_SGD.predict(X_test_norm)"
      ],
      "execution_count": null,
      "outputs": []
    },
    {
      "cell_type": "code",
      "metadata": {
        "id": "2jGxn65t-9er"
      },
      "source": [
        "y_pred_NE = reg_NE.predict(X_test_norm)"
      ],
      "execution_count": null,
      "outputs": []
    },
    {
      "cell_type": "code",
      "metadata": {
        "id": "Ng1QJSAw-9er"
      },
      "source": [
        "print('MAE of GD:', round(MAE(y_test, y_pred_GD), 6))\n",
        "print('MAE of SGD:', round(MAE(y_test, y_pred_SGD), 6))\n",
        "print('MAE of NE:', round(MAE(y_test, y_pred_NE), 6))"
      ],
      "execution_count": null,
      "outputs": []
    },
    {
      "cell_type": "code",
      "metadata": {
        "id": "4Yqvk9Ey-9er"
      },
      "source": [
        "print('MSE of GD:', round(MSE(y_test, y_pred_GD), 6))\n",
        "print('MSE of SGD:', round(MSE(y_test, y_pred_SGD), 6))\n",
        "print('MSE of NE:', round(MSE(y_test, y_pred_NE), 6))"
      ],
      "execution_count": null,
      "outputs": []
    },
    {
      "cell_type": "code",
      "metadata": {
        "id": "TzP_SDzK-9er"
      },
      "source": [
        "print('R2 of GD:', round(R2(y_test, y_pred_GD), 6))\n",
        "print('R2 of SGD:', round(R2(y_test, y_pred_SGD), 6))\n",
        "print('R2 of NE:', round(R2(y_test, y_pred_NE), 6))"
      ],
      "execution_count": null,
      "outputs": []
    },
    {
      "cell_type": "markdown",
      "source": [
        "# Explain what $R^2$ coefficient is."
      ],
      "metadata": {
        "id": "8-DVQPjADofi"
      }
    },
    {
      "cell_type": "code",
      "source": [],
      "metadata": {
        "id": "aH5ZSzyODze4"
      },
      "execution_count": null,
      "outputs": []
    }
  ]
}